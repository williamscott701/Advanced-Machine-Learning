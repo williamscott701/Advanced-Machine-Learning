{
 "cells": [
  {
   "cell_type": "code",
   "execution_count": 1,
   "metadata": {},
   "outputs": [],
   "source": [
    "import copy\n",
    "import math\n",
    "import numpy as np\n",
    "\n",
    "from sklearn.metrics import accuracy_score"
   ]
  },
  {
   "cell_type": "code",
   "execution_count": 2,
   "metadata": {},
   "outputs": [],
   "source": [
    "def calc_hypothesis(W, X):\n",
    "    return np.dot(W.T, X)"
   ]
  },
  {
   "cell_type": "code",
   "execution_count": 3,
   "metadata": {},
   "outputs": [],
   "source": [
    "def sigmoid(z):\n",
    "    return 1.0/(1.0+np.exp(-z))"
   ]
  },
  {
   "cell_type": "code",
   "execution_count": 4,
   "metadata": {},
   "outputs": [],
   "source": [
    "def softmax_sigmoid(X):\n",
    "    exps = np.exp(X - np.max(X))\n",
    "    return np.divide(exps,np.sum(exps, axis = 0))"
   ]
  },
  {
   "cell_type": "code",
   "execution_count": 5,
   "metadata": {},
   "outputs": [],
   "source": [
    "def unstable_softmax(z):\n",
    "    e_z = np.exp(z)\n",
    "    sums = np.sum(e_z, axis=0)\n",
    "    return np.divide(e_z, sums)"
   ]
  },
  {
   "cell_type": "code",
   "execution_count": 6,
   "metadata": {},
   "outputs": [],
   "source": [
    "def convert_label_binary_matrix(y):\n",
    "    final = np.zeros((y.shape[0], np.unique(y).shape[0]))\n",
    "    for m in range(len(y)):\n",
    "        final[m][y[m]]=1\n",
    "    return final.T"
   ]
  },
  {
   "cell_type": "code",
   "execution_count": 7,
   "metadata": {},
   "outputs": [],
   "source": [
    "def accuracy(label,y_predicted, y):\n",
    "    y_multilabel = []\n",
    "    for p in y_predicted:\n",
    "        y_multilabel.append(list(p).index(max(p)))\n",
    "    a = accuracy_score(y_multilabel, y)\n",
    "    print(label, a)\n",
    "    return a"
   ]
  },
  {
   "cell_type": "code",
   "execution_count": 8,
   "metadata": {},
   "outputs": [],
   "source": [
    "def delta_cross_entropy(x,y):\n",
    "    grad=(x-y)/m\n",
    "    return grad"
   ]
  },
  {
   "cell_type": "code",
   "execution_count": 9,
   "metadata": {},
   "outputs": [],
   "source": [
    "def sigmoid_derivative(x):\n",
    "    return x * (1 - x)"
   ]
  },
  {
   "cell_type": "code",
   "execution_count": 10,
   "metadata": {},
   "outputs": [],
   "source": [
    "def cross_entropy(p,y):\n",
    "    return (-y*np.log(p)) / m"
   ]
  },
  {
   "cell_type": "code",
   "execution_count": 11,
   "metadata": {},
   "outputs": [],
   "source": [
    "x = np.array([[252, 4, 155, 175],\n",
    "     [175, 10, 186, 200],\n",
    "     [82, 131, 230, 100],\n",
    "     [115, 138, 80, 88]])"
   ]
  },
  {
   "cell_type": "code",
   "execution_count": 12,
   "metadata": {},
   "outputs": [],
   "source": [
    "m = x.shape[0]"
   ]
  },
  {
   "cell_type": "code",
   "execution_count": 13,
   "metadata": {},
   "outputs": [],
   "source": [
    "y = np.array([1, 1, 0, 0])"
   ]
  },
  {
   "cell_type": "code",
   "execution_count": 14,
   "metadata": {},
   "outputs": [],
   "source": [
    "y_binary = convert_label_binary_matrix(y)"
   ]
  },
  {
   "cell_type": "code",
   "execution_count": 15,
   "metadata": {},
   "outputs": [
    {
     "data": {
      "text/plain": [
       "array([[0., 0., 1., 1.],\n",
       "       [1., 1., 0., 0.]])"
      ]
     },
     "execution_count": 15,
     "metadata": {},
     "output_type": "execute_result"
    }
   ],
   "source": [
    "y_binary"
   ]
  },
  {
   "cell_type": "code",
   "execution_count": 16,
   "metadata": {},
   "outputs": [
    {
     "name": "stdout",
     "output_type": "stream",
     "text": [
      "0\n",
      "1\n"
     ]
    }
   ],
   "source": [
    "size_delta = [4, 2, 2]\n",
    "layers = 3\n",
    "\n",
    "Delta = [\"\"] * (layers - 1)\n",
    "w = [\"\"] * (layers - 1)\n",
    "z = [\"\"] * layers\n",
    "a = [\"\"] * layers\n",
    "b = [\"\"] * (layers - 1)\n",
    "delta = [\"\"] * layers\n",
    "D = [\"\"] * (layers - 1)\n",
    "\n",
    "a[0] = x.T\n",
    "\n",
    "for t in range(layers - 1):\n",
    "    print(t)\n",
    "    Delta[t] = np.zeros((size_delta[t + 1], size_delta[t]))\n",
    "\n",
    "_lambda = 0.01\n",
    "lr = 1\n",
    "    \n",
    "layers = layers - 1"
   ]
  },
  {
   "cell_type": "code",
   "execution_count": 17,
   "metadata": {},
   "outputs": [],
   "source": [
    "b[0] = np.array([[-0.00469, 0.00797]])\n",
    "\n",
    "b[1] = np.array([[-0.00588, -0.00232]])"
   ]
  },
  {
   "cell_type": "code",
   "execution_count": 18,
   "metadata": {},
   "outputs": [],
   "source": [
    "w[0] = np.array([[-0.00256, 0.00889],\n",
    "                 [0.00146, 0.00322],\n",
    "                 [0.00816, 0.00258],\n",
    "                 [-0.00597, -0.00876]])\n",
    "\n",
    "w[1] = np.array([[-0.00647, 0.00540],\n",
    "                 [0.00374, -0.00005]])"
   ]
  },
  {
   "cell_type": "code",
   "execution_count": 30,
   "metadata": {},
   "outputs": [
    {
     "name": "stdout",
     "output_type": "stream",
     "text": [
      "1\n"
     ]
    }
   ],
   "source": [
    "for t in range(1, layers):\n",
    "    print(t)\n",
    "    z[t] = calc_hypothesis(w[t-1], a[t-1])\n",
    "    a[t] = sigmoid(z[t])"
   ]
  },
  {
   "cell_type": "code",
   "execution_count": 20,
   "metadata": {},
   "outputs": [
    {
     "data": {
      "text/plain": [
       "[array([[252, 175,  82, 115],\n",
       "        [  4,  10, 131, 138],\n",
       "        [155, 186, 230,  80],\n",
       "        [175, 200, 100,  88]]),\n",
       " array([[0.39670102, 0.47261742, 0.77922229, 0.50862914],\n",
       "        [0.75399985, 0.57830766, 0.70437102, 0.71140755]]),\n",
       " '']"
      ]
     },
     "execution_count": 20,
     "metadata": {},
     "output_type": "execute_result"
    }
   ],
   "source": [
    "a"
   ]
  },
  {
   "cell_type": "code",
   "execution_count": 21,
   "metadata": {},
   "outputs": [],
   "source": [
    "z[layers] = calc_hypothesis(w[layers - 1], a[layers-1])\n",
    "a[layers] = softmax_sigmoid(z[layers])"
   ]
  },
  {
   "cell_type": "code",
   "execution_count": 22,
   "metadata": {},
   "outputs": [
    {
     "data": {
      "text/plain": [
       "[array([[252, 175,  82, 115],\n",
       "        [  4,  10, 131, 138],\n",
       "        [155, 186, 230,  80],\n",
       "        [175, 200, 100,  88]]),\n",
       " array([[0.39670102, 0.47261742, 0.77922229, 0.50862914],\n",
       "        [0.75399985, 0.57830766, 0.70437102, 0.71140755]]),\n",
       " array([[0.4995372 , 0.49914546, 0.49835506, 0.4991647 ],\n",
       "        [0.5004628 , 0.50085454, 0.50164494, 0.5008353 ]])]"
      ]
     },
     "execution_count": 22,
     "metadata": {},
     "output_type": "execute_result"
    }
   ],
   "source": [
    "a"
   ]
  },
  {
   "cell_type": "code",
   "execution_count": 23,
   "metadata": {},
   "outputs": [],
   "source": [
    "y_predicted = a[layers]"
   ]
  },
  {
   "cell_type": "code",
   "execution_count": 24,
   "metadata": {
    "scrolled": true
   },
   "outputs": [],
   "source": [
    "delta[layers] = delta_cross_entropy(y_predicted,y_binary)"
   ]
  },
  {
   "cell_type": "code",
   "execution_count": 31,
   "metadata": {},
   "outputs": [
    {
     "name": "stdout",
     "output_type": "stream",
     "text": [
      "1\n"
     ]
    }
   ],
   "source": [
    "for t in reversed(range(1, layers)):\n",
    "    print(t)\n",
    "    delta[t] = np.dot(w[t], delta[t+1]) * sigmoid_derivative(a[t])"
   ]
  },
  {
   "cell_type": "code",
   "execution_count": 26,
   "metadata": {},
   "outputs": [
    {
     "data": {
      "text/plain": [
       "['', array([[-3.54776198e-04, -3.69192912e-04,  2.56096568e-04,\n",
       "          3.71446519e-04],\n",
       "        [ 8.77917476e-05,  1.15334968e-04, -9.89746889e-05,\n",
       "         -9.74266076e-05]]), array([[ 0.1248843 ,  0.12478636, -0.12541124, -0.12520882],\n",
       "        [-0.1248843 , -0.12478636,  0.12541124,  0.12520882]])]"
      ]
     },
     "execution_count": 26,
     "metadata": {},
     "output_type": "execute_result"
    }
   ],
   "source": [
    "delta"
   ]
  },
  {
   "cell_type": "code",
   "execution_count": 27,
   "metadata": {},
   "outputs": [
    {
     "name": "stdout",
     "output_type": "stream",
     "text": [
      "0\n",
      "1\n"
     ]
    }
   ],
   "source": [
    "for t in range(0, layers):\n",
    "    print(t)\n",
    "    Delta[t] = Delta[t] + np.dot(delta[t+1], a[t].T)"
   ]
  },
  {
   "cell_type": "code",
   "execution_count": 32,
   "metadata": {},
   "outputs": [
    {
     "name": "stdout",
     "output_type": "stream",
     "text": [
      "0\n",
      "1\n",
      "0\n",
      "1\n"
     ]
    }
   ],
   "source": [
    "for t in range(0, layers):\n",
    "    print(t)\n",
    "    D[t] = (1/m) * (Delta[t].T + (_lambda * w[t]))\n",
    "\n",
    "for t in range(0, layers):\n",
    "    print(t)\n",
    "    w[t] = w[t] - (lr*D[t])"
   ]
  },
  {
   "cell_type": "code",
   "execution_count": 29,
   "metadata": {},
   "outputs": [
    {
     "data": {
      "text/plain": [
       "[array([[ 0.02002042,  0.00312099],\n",
       "        [-0.01846796,  0.00943846],\n",
       "        [ 0.01690017,  0.00144812],\n",
       "        [ 0.01345179, -0.01372798]]), array([[ 0.00676871, -0.00783604],\n",
       "        [ 0.00650137, -0.0028206 ]])]"
      ]
     },
     "execution_count": 29,
     "metadata": {},
     "output_type": "execute_result"
    }
   ],
   "source": [
    "w"
   ]
  },
  {
   "cell_type": "code",
   "execution_count": null,
   "metadata": {},
   "outputs": [],
   "source": []
  }
 ],
 "metadata": {
  "kernelspec": {
   "display_name": "Python 3",
   "language": "python",
   "name": "python3"
  },
  "language_info": {
   "codemirror_mode": {
    "name": "ipython",
    "version": 3
   },
   "file_extension": ".py",
   "mimetype": "text/x-python",
   "name": "python",
   "nbconvert_exporter": "python",
   "pygments_lexer": "ipython3",
   "version": "3.7.3"
  }
 },
 "nbformat": 4,
 "nbformat_minor": 2
}
