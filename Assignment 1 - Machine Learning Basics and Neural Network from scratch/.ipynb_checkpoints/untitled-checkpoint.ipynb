{
 "cells": [
  {
   "cell_type": "markdown",
   "metadata": {},
   "source": [
    "### Imports"
   ]
  },
  {
   "cell_type": "code",
   "execution_count": 1,
   "metadata": {},
   "outputs": [],
   "source": [
    "import copy\n",
    "import math\n",
    "import numpy as np\n",
    "\n",
    "from sklearn.metrics import accuracy_score"
   ]
  },
  {
   "cell_type": "markdown",
   "metadata": {},
   "source": [
    "### Necessary Functions"
   ]
  },
  {
   "cell_type": "code",
   "execution_count": null,
   "metadata": {},
   "outputs": [],
   "source": [
    "def calc_hypothesis(W, X):\n",
    "    return np.dot(W.T, X)"
   ]
  },
  {
   "cell_type": "code",
   "execution_count": null,
   "metadata": {},
   "outputs": [],
   "source": [
    "def sigmoid(z):\n",
    "    return 1.0/(1.0+np.exp(-z))"
   ]
  },
  {
   "cell_type": "code",
   "execution_count": null,
   "metadata": {},
   "outputs": [],
   "source": [
    "def softmax_sigmoid(X):\n",
    "    exps = np.exp(X - np.max(X))\n",
    "    return np.divide(exps,np.sum(exps, axis = 0))"
   ]
  },
  {
   "cell_type": "code",
   "execution_count": null,
   "metadata": {},
   "outputs": [],
   "source": [
    "def unstable_softmax(z):\n",
    "    e_z = np.exp(z)\n",
    "    sums = np.sum(e_z, axis=0)\n",
    "    return np.divide(e_z, sums)"
   ]
  },
  {
   "cell_type": "code",
   "execution_count": null,
   "metadata": {},
   "outputs": [],
   "source": [
    "def convert_label_binary_matrix(y):\n",
    "    final = np.zeros((y.shape[0], np.unique(y).shape[0]))\n",
    "    for m in range(len(y)):\n",
    "        final[m][y[m]]=1\n",
    "    return final.T"
   ]
  },
  {
   "cell_type": "code",
   "execution_count": null,
   "metadata": {},
   "outputs": [],
   "source": [
    "def accuracy(label,y_predicted, y):\n",
    "    y_multilabel = []\n",
    "    for p in y_predicted:\n",
    "        y_multilabel.append(list(p).index(max(p)))\n",
    "    a = accuracy_score(y_multilabel, y)\n",
    "    print(label, a)\n",
    "    return a"
   ]
  },
  {
   "cell_type": "code",
   "execution_count": null,
   "metadata": {},
   "outputs": [],
   "source": [
    "def delta_cross_entropy(x,y):\n",
    "    grad=(x-y)/m\n",
    "    return grad"
   ]
  },
  {
   "cell_type": "code",
   "execution_count": null,
   "metadata": {},
   "outputs": [],
   "source": [
    "def sigmoid_derivative(x):\n",
    "    return x * (1 - x)"
   ]
  },
  {
   "cell_type": "code",
   "execution_count": null,
   "metadata": {},
   "outputs": [],
   "source": [
    "def cross_entropy(p,y):\n",
    "    return (-y*np.log(p)) / m"
   ]
  },
  {
   "cell_type": "markdown",
   "metadata": {},
   "source": [
    "### Start"
   ]
  },
  {
   "cell_type": "code",
   "execution_count": null,
   "metadata": {},
   "outputs": [],
   "source": [
    "# Id p1 p2 p3 p4 Class\n",
    "# 1 252 4 155 175 1\n",
    "# 2 175 10 186 200 1\n",
    "# 3 82 131 230 100 0\n",
    "# 4 115 138 80 88 0"
   ]
  },
  {
   "cell_type": "code",
   "execution_count": null,
   "metadata": {},
   "outputs": [],
   "source": [
    "x = np.array([[252, 4, 155, 175],\n",
    "     [175, 10, 186, 200],\n",
    "     [82, 131, 230, 100],\n",
    "     [115, 138, 80, 88]])"
   ]
  },
  {
   "cell_type": "code",
   "execution_count": null,
   "metadata": {},
   "outputs": [],
   "source": [
    "w0 = np.array([[-0.00469, 0.00797],\n",
    "                 [-0.00256, 0.00889],\n",
    "                 [0.00146, 0.00322],\n",
    "                 [0.00816, 0.00258],\n",
    "                 [-0.00597, -0.00876]])\n",
    "\n",
    "w1 = np.array([[-0.00588, -0.00232],\n",
    "                 [-0.00647, 0.00540],\n",
    "                 [0.00374, -0.00005]])"
   ]
  },
  {
   "cell_type": "code",
   "execution_count": null,
   "metadata": {},
   "outputs": [],
   "source": [
    "y = np.array([1, 1, 0, 0])"
   ]
  },
  {
   "cell_type": "code",
   "execution_count": null,
   "metadata": {},
   "outputs": [],
   "source": [
    "m = x.shape[0]"
   ]
  },
  {
   "cell_type": "code",
   "execution_count": null,
   "metadata": {},
   "outputs": [],
   "source": [
    "y_binary = convert_label_binary_matrix(y)"
   ]
  },
  {
   "cell_type": "code",
   "execution_count": null,
   "metadata": {},
   "outputs": [],
   "source": [
    "y_binary"
   ]
  },
  {
   "cell_type": "code",
   "execution_count": null,
   "metadata": {},
   "outputs": [],
   "source": []
  },
  {
   "cell_type": "code",
   "execution_count": null,
   "metadata": {},
   "outputs": [],
   "source": [
    "np.array([[1,1,1,1]]).shape"
   ]
  },
  {
   "cell_type": "code",
   "execution_count": null,
   "metadata": {},
   "outputs": [],
   "source": [
    "def add_bias(x):\n",
    "    return np.concatenate([np.ones((1, x.shape[0])).T, x], axis=1)"
   ]
  },
  {
   "cell_type": "code",
   "execution_count": null,
   "metadata": {},
   "outputs": [],
   "source": [
    "a0 = add_bias(x)"
   ]
  },
  {
   "cell_type": "code",
   "execution_count": null,
   "metadata": {},
   "outputs": [],
   "source": [
    "a0.shape"
   ]
  },
  {
   "cell_type": "code",
   "execution_count": null,
   "metadata": {},
   "outputs": [],
   "source": [
    "w0.shape"
   ]
  },
  {
   "cell_type": "code",
   "execution_count": null,
   "metadata": {},
   "outputs": [],
   "source": [
    "z1 = np.dot(a0, w0)"
   ]
  },
  {
   "cell_type": "code",
   "execution_count": null,
   "metadata": {},
   "outputs": [],
   "source": [
    "a1 = sigmoid(z1)"
   ]
  },
  {
   "cell_type": "code",
   "execution_count": null,
   "metadata": {},
   "outputs": [],
   "source": [
    "a1.shape"
   ]
  },
  {
   "cell_type": "code",
   "execution_count": null,
   "metadata": {},
   "outputs": [],
   "source": [
    "add_bias(a1).shape"
   ]
  },
  {
   "cell_type": "code",
   "execution_count": null,
   "metadata": {},
   "outputs": [],
   "source": [
    "w1.shape"
   ]
  },
  {
   "cell_type": "code",
   "execution_count": null,
   "metadata": {},
   "outputs": [],
   "source": [
    "z2 = np.dot(add_bias(a1), w1)"
   ]
  },
  {
   "cell_type": "code",
   "execution_count": null,
   "metadata": {},
   "outputs": [],
   "source": [
    "a2 = unstable_softmax(z2.T)"
   ]
  },
  {
   "cell_type": "code",
   "execution_count": null,
   "metadata": {},
   "outputs": [],
   "source": [
    "a2.shape"
   ]
  },
  {
   "cell_type": "code",
   "execution_count": null,
   "metadata": {},
   "outputs": [],
   "source": [
    "a2"
   ]
  },
  {
   "cell_type": "code",
   "execution_count": null,
   "metadata": {},
   "outputs": [],
   "source": []
  },
  {
   "cell_type": "code",
   "execution_count": 9,
   "metadata": {},
   "outputs": [
    {
     "name": "stdout",
     "output_type": "stream",
     "text": [
      "0.4311207937756862\n"
     ]
    }
   ],
   "source": [
    "def cross_entropy(predictions, targets, epsilon=1e-12):\n",
    "    predictions = np.clip(predictions, epsilon, 1. - epsilon)\n",
    "    N = predictions.shape[0]\n",
    "    ce = -np.sum(targets*np.log(predictions+1e-9))/N\n",
    "    return ce\n",
    "print((cross_entropy(x, y)))"
   ]
  },
  {
   "cell_type": "code",
   "execution_count": null,
   "metadata": {},
   "outputs": [],
   "source": []
  },
  {
   "cell_type": "code",
   "execution_count": null,
   "metadata": {},
   "outputs": [],
   "source": []
  },
  {
   "cell_type": "code",
   "execution_count": null,
   "metadata": {},
   "outputs": [],
   "source": []
  },
  {
   "cell_type": "code",
   "execution_count": null,
   "metadata": {},
   "outputs": [],
   "source": []
  },
  {
   "cell_type": "code",
   "execution_count": null,
   "metadata": {},
   "outputs": [],
   "source": [
    "size_delta = [4, 2, 2]\n",
    "layers_ = 3\n",
    "\n",
    "Delta = [\"\"] * (layers_ - 1)\n",
    "w = [\"\"] * (layers_ - 1)\n",
    "z = [\"\"] * layers_\n",
    "a = [\"\"] * layers_\n",
    "delta = [\"\"] * layers_\n",
    "D = [\"\"] * (layers_ - 1)"
   ]
  },
  {
   "cell_type": "code",
   "execution_count": null,
   "metadata": {},
   "outputs": [],
   "source": [
    "w[0] = np.array([[-0.00469, 0.00797],\n",
    "                 [-0.00256, 0.00889],\n",
    "                 [0.00146, 0.00322],\n",
    "                 [0.00816, 0.00258],\n",
    "                 [-0.00597, -0.00876]])\n",
    "\n",
    "w[1] = np.array([[-0.00588, -0.00232],\n",
    "                 [-0.00647, 0.00540],\n",
    "                 [0.00374, -0.00005]])"
   ]
  },
  {
   "cell_type": "code",
   "execution_count": null,
   "metadata": {},
   "outputs": [],
   "source": [
    "Delta"
   ]
  },
  {
   "cell_type": "code",
   "execution_count": null,
   "metadata": {},
   "outputs": [],
   "source": [
    "x"
   ]
  },
  {
   "cell_type": "code",
   "execution_count": null,
   "metadata": {},
   "outputs": [],
   "source": [
    "a[0] = x.T"
   ]
  },
  {
   "cell_type": "code",
   "execution_count": null,
   "metadata": {},
   "outputs": [],
   "source": [
    "a[0]"
   ]
  },
  {
   "cell_type": "code",
   "execution_count": null,
   "metadata": {},
   "outputs": [],
   "source": [
    "Delta[0] = np.zeros((2, 4))"
   ]
  },
  {
   "cell_type": "code",
   "execution_count": null,
   "metadata": {},
   "outputs": [],
   "source": [
    "Delta[1] = np.zeros((2, 2))"
   ]
  },
  {
   "cell_type": "code",
   "execution_count": null,
   "metadata": {},
   "outputs": [],
   "source": [
    "w[0]"
   ]
  },
  {
   "cell_type": "code",
   "execution_count": null,
   "metadata": {
    "scrolled": true
   },
   "outputs": [],
   "source": [
    "w[1]"
   ]
  },
  {
   "cell_type": "code",
   "execution_count": null,
   "metadata": {},
   "outputs": [],
   "source": [
    "_lambda = 0.01\n",
    "lr = 0.1\n",
    "    \n",
    "layers = layers_ - 1"
   ]
  },
  {
   "cell_type": "code",
   "execution_count": null,
   "metadata": {},
   "outputs": [],
   "source": [
    "z[1] = calc_hypothesis(w[0], a[0])\n",
    "a[1] = softmax_sigmoid(z[1])"
   ]
  },
  {
   "cell_type": "code",
   "execution_count": null,
   "metadata": {},
   "outputs": [],
   "source": [
    "w[1]"
   ]
  },
  {
   "cell_type": "code",
   "execution_count": null,
   "metadata": {},
   "outputs": [],
   "source": [
    "w"
   ]
  },
  {
   "cell_type": "code",
   "execution_count": null,
   "metadata": {},
   "outputs": [],
   "source": [
    "a"
   ]
  },
  {
   "cell_type": "code",
   "execution_count": null,
   "metadata": {},
   "outputs": [],
   "source": [
    "z[2] = calc_hypothesis(w[1], a[1])"
   ]
  },
  {
   "cell_type": "code",
   "execution_count": null,
   "metadata": {},
   "outputs": [],
   "source": [
    "z"
   ]
  },
  {
   "cell_type": "code",
   "execution_count": null,
   "metadata": {},
   "outputs": [],
   "source": [
    "a[layers] = softmax_sigmoid(z[layers])"
   ]
  },
  {
   "cell_type": "code",
   "execution_count": null,
   "metadata": {},
   "outputs": [],
   "source": [
    "a"
   ]
  },
  {
   "cell_type": "code",
   "execution_count": null,
   "metadata": {},
   "outputs": [],
   "source": [
    "y_predicted = a[layers]"
   ]
  },
  {
   "cell_type": "code",
   "execution_count": null,
   "metadata": {},
   "outputs": [],
   "source": [
    "y_predicted"
   ]
  },
  {
   "cell_type": "code",
   "execution_count": null,
   "metadata": {},
   "outputs": [],
   "source": [
    "delta[layers] = delta_cross_entropy(y_predicted,y_binary)"
   ]
  },
  {
   "cell_type": "code",
   "execution_count": null,
   "metadata": {},
   "outputs": [],
   "source": [
    "delta"
   ]
  },
  {
   "cell_type": "code",
   "execution_count": null,
   "metadata": {},
   "outputs": [],
   "source": [
    "w[1].shape"
   ]
  },
  {
   "cell_type": "code",
   "execution_count": null,
   "metadata": {},
   "outputs": [],
   "source": [
    "delta[2].shape"
   ]
  },
  {
   "cell_type": "code",
   "execution_count": null,
   "metadata": {},
   "outputs": [],
   "source": [
    "sigmoid_derivative(a[1]).shape"
   ]
  },
  {
   "cell_type": "code",
   "execution_count": null,
   "metadata": {},
   "outputs": [],
   "source": [
    "delta[1] = np.dot(w[1], delta[2]) * sigmoid_derivative(a[1])"
   ]
  },
  {
   "cell_type": "code",
   "execution_count": null,
   "metadata": {
    "scrolled": true
   },
   "outputs": [],
   "source": [
    "# size_delta = [784, 100, 50, 50, 10]\n",
    "# layers = 5\n",
    "\n",
    "size_delta = [784, 100, 10]\n",
    "layers = 3\n",
    "\n",
    "Delta = [\"\"] * (layers - 1)\n",
    "w = [\"\"] * (layers - 1)\n",
    "z = [\"\"] * layers\n",
    "a = [\"\"] * layers\n",
    "delta = [\"\"] * layers\n",
    "D = [\"\"] * (layers - 1)\n",
    "\n",
    "a[0] = x.T\n",
    "\n",
    "for t in range(layers - 1):\n",
    "    Delta[t] = np.zeros((size_delta[t + 1], size_delta[t]))\n",
    "    w[t] = np.random.uniform(low=0.1, high=1, size=(size_delta[t], size_delta[t + 1]))\n",
    "\n",
    "_lambda = 0.01\n",
    "lr = 0.1\n",
    "    \n",
    "layers = layers - 1\n",
    "\n",
    "for i in range(10000):\n",
    "    for t in range(1, layers):\n",
    "        z[t] = calc_hypothesis(w[t-1], a[t-1])\n",
    "        a[t] = softmax_sigmoid(z[t])\n",
    "    \n",
    "    z[layers] = calc_hypothesis(w[layers - 1], a[layers-1])\n",
    "    a[layers] = softmax_sigmoid(z[layers])\n",
    "\n",
    "    y_predicted = a[layers]\n",
    "        \n",
    "    delta[layers] = delta_cross_entropy(y_predicted,y_binary)\n",
    "    \n",
    "    for t in reversed(range(1, layers)):\n",
    "        delta[t] = np.dot(w[t], delta[t+1]) * sigmoid_derivative(a[t])\n",
    "    \n",
    "    for t in range(0, layers):\n",
    "        Delta[t] = Delta[t] + np.dot(delta[t+1], a[t].T)\n",
    "\n",
    "    for t in range(0, layers):\n",
    "        D[t] = (1/m) * (Delta[t].T + (_lambda * w[t]))\n",
    "\n",
    "    for t in range(0, layers):\n",
    "        w[t] = w[t] - (lr*D[t])\n",
    "\n",
    "    accuracy_train_logs.append(accuracy(\"\\nTrain Accuracy:\", y_predicted.T, y))"
   ]
  },
  {
   "cell_type": "code",
   "execution_count": null,
   "metadata": {},
   "outputs": [],
   "source": []
  },
  {
   "cell_type": "code",
   "execution_count": null,
   "metadata": {},
   "outputs": [],
   "source": []
  }
 ],
 "metadata": {
  "kernelspec": {
   "display_name": "Python 3",
   "language": "python",
   "name": "python3"
  },
  "language_info": {
   "codemirror_mode": {
    "name": "ipython",
    "version": 3
   },
   "file_extension": ".py",
   "mimetype": "text/x-python",
   "name": "python",
   "nbconvert_exporter": "python",
   "pygments_lexer": "ipython3",
   "version": "3.7.3"
  }
 },
 "nbformat": 4,
 "nbformat_minor": 2
}
