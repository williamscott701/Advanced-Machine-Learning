{
 "cells": [
  {
   "cell_type": "markdown",
   "metadata": {},
   "source": [
    "## Imports"
   ]
  },
  {
   "cell_type": "code",
   "execution_count": 1,
   "metadata": {},
   "outputs": [],
   "source": [
    "import copy\n",
    "import numpy as np\n",
    "import pandas as pd\n",
    "import multiprocessing\n",
    "import matplotlib.pyplot as plt\n",
    "\n",
    "import defs\n",
    "\n",
    "from sklearn.svm import SVC\n",
    "from collections import Counter\n",
    "from sklearn.manifold import TSNE\n",
    "from sklearn.metrics import accuracy_score\n",
    "from sklearn.model_selection import train_test_split"
   ]
  },
  {
   "cell_type": "markdown",
   "metadata": {},
   "source": [
    "## Loading Dataset"
   ]
  },
  {
   "cell_type": "code",
   "execution_count": 2,
   "metadata": {},
   "outputs": [],
   "source": [
    "n_features = 16"
   ]
  },
  {
   "cell_type": "code",
   "execution_count": 3,
   "metadata": {},
   "outputs": [],
   "source": [
    "dataset = pd.read_csv(\"Resources/iris.scale.txt\", header=None)"
   ]
  },
  {
   "cell_type": "code",
   "execution_count": 4,
   "metadata": {},
   "outputs": [],
   "source": [
    "# dataset_test = pd.read_csv(\"Resources/pendigits.t\", header=None)"
   ]
  },
  {
   "cell_type": "code",
   "execution_count": 5,
   "metadata": {},
   "outputs": [
    {
     "data": {
      "text/html": [
       "<div>\n",
       "<style scoped>\n",
       "    .dataframe tbody tr th:only-of-type {\n",
       "        vertical-align: middle;\n",
       "    }\n",
       "\n",
       "    .dataframe tbody tr th {\n",
       "        vertical-align: top;\n",
       "    }\n",
       "\n",
       "    .dataframe thead th {\n",
       "        text-align: right;\n",
       "    }\n",
       "</style>\n",
       "<table border=\"1\" class=\"dataframe\">\n",
       "  <thead>\n",
       "    <tr style=\"text-align: right;\">\n",
       "      <th></th>\n",
       "      <th>0</th>\n",
       "    </tr>\n",
       "  </thead>\n",
       "  <tbody>\n",
       "    <tr>\n",
       "      <th>0</th>\n",
       "      <td>1 1:-0.555556 2:0.25 3:-0.864407 4:-0.916667</td>\n",
       "    </tr>\n",
       "    <tr>\n",
       "      <th>1</th>\n",
       "      <td>1 1:-0.666667 2:-0.166667 3:-0.864407 4:-0.916...</td>\n",
       "    </tr>\n",
       "    <tr>\n",
       "      <th>2</th>\n",
       "      <td>1 1:-0.777778 3:-0.898305 4:-0.916667</td>\n",
       "    </tr>\n",
       "    <tr>\n",
       "      <th>3</th>\n",
       "      <td>1 1:-0.833333 2:-0.0833334 3:-0.830508 4:-0.91...</td>\n",
       "    </tr>\n",
       "    <tr>\n",
       "      <th>4</th>\n",
       "      <td>1 1:-0.611111 2:0.333333 3:-0.864407 4:-0.916667</td>\n",
       "    </tr>\n",
       "  </tbody>\n",
       "</table>\n",
       "</div>"
      ],
      "text/plain": [
       "                                                   0\n",
       "0      1 1:-0.555556 2:0.25 3:-0.864407 4:-0.916667 \n",
       "1  1 1:-0.666667 2:-0.166667 3:-0.864407 4:-0.916...\n",
       "2             1 1:-0.777778 3:-0.898305 4:-0.916667 \n",
       "3  1 1:-0.833333 2:-0.0833334 3:-0.830508 4:-0.91...\n",
       "4  1 1:-0.611111 2:0.333333 3:-0.864407 4:-0.916667 "
      ]
     },
     "execution_count": 5,
     "metadata": {},
     "output_type": "execute_result"
    }
   ],
   "source": [
    "dataset.head()"
   ]
  },
  {
   "cell_type": "code",
   "execution_count": 6,
   "metadata": {},
   "outputs": [
    {
     "data": {
      "text/plain": [
       "(150, 1)"
      ]
     },
     "execution_count": 6,
     "metadata": {},
     "output_type": "execute_result"
    }
   ],
   "source": [
    "dataset.shape #, dataset_test.shape"
   ]
  },
  {
   "cell_type": "code",
   "execution_count": 7,
   "metadata": {},
   "outputs": [],
   "source": [
    "def get_dataset(dataset):\n",
    "    X = []\n",
    "    y = []\n",
    "\n",
    "    for idx, i in enumerate(dataset[0]):\n",
    "        k = [0] * n_features\n",
    "        p = i.strip().split(\" \")\n",
    "        y.append(int(p[0]))\n",
    "        for j in p[1:]:\n",
    "            k[int(j.split(\":\")[0])-1] = float(j.split(\":\")[1])\n",
    "        X.append(k)\n",
    "    return np.array(X), np.array(y)"
   ]
  },
  {
   "cell_type": "code",
   "execution_count": 8,
   "metadata": {},
   "outputs": [],
   "source": [
    "X_raw, y = get_dataset(dataset)"
   ]
  },
  {
   "cell_type": "code",
   "execution_count": 9,
   "metadata": {},
   "outputs": [],
   "source": [
    "y -= 1"
   ]
  },
  {
   "cell_type": "code",
   "execution_count": 10,
   "metadata": {},
   "outputs": [],
   "source": [
    "n_classes = np.unique(y).shape[0]"
   ]
  },
  {
   "cell_type": "code",
   "execution_count": 11,
   "metadata": {},
   "outputs": [
    {
     "data": {
      "text/plain": [
       "((150, 16), (150,))"
      ]
     },
     "execution_count": 11,
     "metadata": {},
     "output_type": "execute_result"
    }
   ],
   "source": [
    "X_raw.shape, y.shape"
   ]
  },
  {
   "cell_type": "code",
   "execution_count": 12,
   "metadata": {},
   "outputs": [],
   "source": [
    "X_raw = X_raw[:, 0:4]"
   ]
  },
  {
   "cell_type": "code",
   "execution_count": 13,
   "metadata": {},
   "outputs": [
    {
     "data": {
      "text/plain": [
       "(150, 4)"
      ]
     },
     "execution_count": 13,
     "metadata": {},
     "output_type": "execute_result"
    }
   ],
   "source": [
    "X_raw.shape"
   ]
  },
  {
   "cell_type": "code",
   "execution_count": 14,
   "metadata": {},
   "outputs": [],
   "source": [
    "# X_test_raw, y_test = get_dataset(dataset_test)"
   ]
  },
  {
   "cell_type": "code",
   "execution_count": 15,
   "metadata": {},
   "outputs": [],
   "source": [
    "# X_test_raw.shape, y_test.shape"
   ]
  },
  {
   "cell_type": "code",
   "execution_count": 16,
   "metadata": {},
   "outputs": [],
   "source": [
    "from sklearn.model_selection import train_test_split"
   ]
  },
  {
   "cell_type": "code",
   "execution_count": 17,
   "metadata": {},
   "outputs": [],
   "source": [
    "X_train_raw, X_test_raw, y_train, y_test = train_test_split(X_raw, y, test_size=0.3, random_state=42)"
   ]
  },
  {
   "cell_type": "code",
   "execution_count": 18,
   "metadata": {},
   "outputs": [],
   "source": [
    "from sklearn.decomposition import PCA"
   ]
  },
  {
   "cell_type": "code",
   "execution_count": 19,
   "metadata": {},
   "outputs": [],
   "source": [
    "pca = PCA(n_components=2)"
   ]
  },
  {
   "cell_type": "code",
   "execution_count": 20,
   "metadata": {},
   "outputs": [],
   "source": [
    "X_train = pca.fit_transform(X_train_raw)"
   ]
  },
  {
   "cell_type": "code",
   "execution_count": 21,
   "metadata": {},
   "outputs": [],
   "source": [
    "X_test = pca.transform(X_test_raw)"
   ]
  },
  {
   "cell_type": "code",
   "execution_count": 22,
   "metadata": {},
   "outputs": [
    {
     "data": {
      "text/plain": [
       "array([0.83139541, 0.12059263])"
      ]
     },
     "execution_count": 22,
     "metadata": {},
     "output_type": "execute_result"
    }
   ],
   "source": [
    "pca.explained_variance_ratio_"
   ]
  },
  {
   "cell_type": "markdown",
   "metadata": {},
   "source": [
    "### Required Functions"
   ]
  },
  {
   "cell_type": "code",
   "execution_count": 23,
   "metadata": {},
   "outputs": [],
   "source": [
    "def plot_tsne(X, y):\n",
    "    tsne = TSNE(n_components=2, random_state=0)\n",
    "    k = tsne.fit_transform(X)\n",
    "    plt.scatter(k[:, 0], k[:, 1], c=y)\n",
    "    plt.show()"
   ]
  },
  {
   "cell_type": "code",
   "execution_count": 24,
   "metadata": {},
   "outputs": [],
   "source": [
    "def linear_kernel(x, y, c=2):\n",
    "    return np.dot(x, y.T) + c"
   ]
  },
  {
   "cell_type": "code",
   "execution_count": 25,
   "metadata": {},
   "outputs": [],
   "source": [
    "def rbf_kernel(X, y, sigma = 3):\n",
    "    K = np.zeros((X.shape[0], y.shape[0]))\n",
    "    for i, x_ in enumerate(X):\n",
    "        for j, y_ in enumerate(y):\n",
    "            K[i, j] = np.linalg.norm(x_-y_)**2\n",
    "    return np.exp(-(1.0/2.0*(sigma**2))*K)"
   ]
  },
  {
   "cell_type": "markdown",
   "metadata": {},
   "source": [
    "### Analysis"
   ]
  },
  {
   "cell_type": "code",
   "execution_count": 26,
   "metadata": {
    "scrolled": true
   },
   "outputs": [
    {
     "data": {
      "image/png": "[encoded data removed]",
      "text/plain": [
       "<Figure size 432x288 with 1 Axes>"
      ]
     },
     "metadata": {
      "needs_background": "light"
     },
     "output_type": "display_data"
    }
   ],
   "source": [
    "plot_tsne(X_train, y_train)"
   ]
  },
  {
   "cell_type": "code",
   "execution_count": 27,
   "metadata": {
    "scrolled": true
   },
   "outputs": [
    {
     "data": {
      "image/png": "[encoded data removed]",
      "text/plain": [
       "<Figure size 432x288 with 1 Axes>"
      ]
     },
     "metadata": {
      "needs_background": "light"
     },
     "output_type": "display_data"
    }
   ],
   "source": [
    "plot_tsne(X_test, y_test)"
   ]
  },
  {
   "cell_type": "markdown",
   "metadata": {},
   "source": [
    "# Baselines"
   ]
  },
  {
   "cell_type": "code",
   "execution_count": 31,
   "metadata": {
    "scrolled": true
   },
   "outputs": [
    {
     "name": "stdout",
     "output_type": "stream",
     "text": [
      "0.9619047619047619\n",
      "0.9777777777777777\n"
     ]
    }
   ],
   "source": [
    "svm = SVC(kernel='linear', gamma='auto')\n",
    "svm.fit(X_train, y_train)\n",
    "print(svm.score(X_train, y_train))\n",
    "print(svm.score(X_test, y_test))"
   ]
  },
  {
   "cell_type": "code",
   "execution_count": 32,
   "metadata": {},
   "outputs": [
    {
     "name": "stdout",
     "output_type": "stream",
     "text": [
      "0.9619047619047619\n",
      "0.9777777777777777\n"
     ]
    }
   ],
   "source": [
    "svm = SVC(kernel='rbf', gamma='auto')\n",
    "svm.fit(X_train, y_train)\n",
    "print(svm.score(X_train, y_train))\n",
    "print(svm.score(X_test, y_test))"
   ]
  },
  {
   "cell_type": "markdown",
   "metadata": {},
   "source": [
    "# Models\n",
    "- OVR - Linear and RBF\n",
    "- AVA - Linear and RBF"
   ]
  },
  {
   "cell_type": "markdown",
   "metadata": {},
   "source": [
    "# OVR"
   ]
  },
  {
   "cell_type": "code",
   "execution_count": 33,
   "metadata": {},
   "outputs": [],
   "source": [
    "def ovr_predcit_proba(X_train, X_test, probability, svm_s):\n",
    "    y_prob_train, y_prob_test = [], []\n",
    "\n",
    "    for clf in svm_s:\n",
    "        y_prob_train.append(clf.predict_proba(X_train)[:, 1].tolist())\n",
    "        y_prob_test.append(clf.predict_proba(X_test)[:, 1].tolist())\n",
    "    return np.array(y_prob_train).T, np.array(y_prob_test).T"
   ]
  },
  {
   "cell_type": "code",
   "execution_count": 34,
   "metadata": {},
   "outputs": [],
   "source": [
    "def ovr_multiclass_convert(y_predic):\n",
    "    y_predicted = []\n",
    "    \n",
    "    for y_data in y_predic:\n",
    "        y_predicted.append(np.argmax(y_data, axis = 0))\n",
    "        \n",
    "    return np.array(y_predicted)"
   ]
  },
  {
   "cell_type": "code",
   "execution_count": 35,
   "metadata": {},
   "outputs": [],
   "source": [
    "def ovr_get_svm(X_train, y_train, kernel, probability, i):\n",
    "    y_train_ = copy.deepcopy(y_train)\n",
    "\n",
    "    y_train_[y_train_== i] = -1\n",
    "    y_train_[y_train_!= -1] = 0\n",
    "    y_train_[y_train_== -1] = 1\n",
    "\n",
    "    model = SVC(kernel=kernel, gamma='auto', probability=probability)\n",
    "    model.fit(X_train, y_train_)\n",
    "    print(\"Done Class:\", i)\n",
    "    return model"
   ]
  },
  {
   "cell_type": "code",
   "execution_count": 36,
   "metadata": {
    "scrolled": true
   },
   "outputs": [],
   "source": [
    "def ovr_main(X_train, y_train, X_test, y_test, probability, kernel):\n",
    "        \n",
    "#     grid = []\n",
    "#     for i in np.unique(y_train):\n",
    "#         grid.append((X_train, y_train, kernel, probability, i))\n",
    "    \n",
    "#     pool = multiprocessing.Pool()\n",
    "#     svm_all = pool.starmap(defs.ovr_svm_multipro, grid)\n",
    "\n",
    "    svm_all = []\n",
    "    for i in np.unique(y_train):\n",
    "        svm_all.append(ovr_get_svm(X_train, y_train, kernel, probability, i))\n",
    "    \n",
    "    y_proba_train, y_proba_test = ovr_predcit_proba(X_train, X_test, probability, svm_all)\n",
    "\n",
    "    y_predicted_train = ovr_multiclass_convert(y_proba_train)\n",
    "\n",
    "    y_predicted_test = ovr_multiclass_convert(y_proba_test)\n",
    "\n",
    "    print(kernel, \"Train\", accuracy_score(y_predicted_train, y_train))\n",
    "    \n",
    "    print(kernel, \"Test\", accuracy_score(y_predicted_test, y_test))"
   ]
  },
  {
   "cell_type": "code",
   "execution_count": 37,
   "metadata": {},
   "outputs": [],
   "source": [
    "probability = True"
   ]
  },
  {
   "cell_type": "code",
   "execution_count": 38,
   "metadata": {},
   "outputs": [
    {
     "name": "stdout",
     "output_type": "stream",
     "text": [
      "Done Class: 0\n",
      "Done Class: 1\n",
      "Done Class: 2\n",
      "linear Train 0.9238095238095239\n",
      "linear Test 0.9333333333333333\n"
     ]
    }
   ],
   "source": [
    "ovr_main(X_train, y_train, X_test, y_test, probability, 'linear')"
   ]
  },
  {
   "cell_type": "code",
   "execution_count": 39,
   "metadata": {},
   "outputs": [
    {
     "name": "stdout",
     "output_type": "stream",
     "text": [
      "Done Class: 0\n",
      "Done Class: 1\n",
      "Done Class: 2\n",
      "rbf Train 0.9523809523809523\n",
      "rbf Test 0.9777777777777777\n"
     ]
    }
   ],
   "source": [
    "ovr_main(X_train, y_train, X_test, y_test, probability, 'rbf')"
   ]
  },
  {
   "cell_type": "code",
   "execution_count": 40,
   "metadata": {
    "scrolled": true
   },
   "outputs": [
    {
     "name": "stdout",
     "output_type": "stream",
     "text": [
      "Done Class: 0\n",
      "Done Class: 1\n",
      "Done Class: 2\n",
      "<function linear_kernel at 0x7f5096bfc730> Train 0.9142857142857143\n",
      "<function linear_kernel at 0x7f5096bfc730> Test 0.9333333333333333\n"
     ]
    }
   ],
   "source": [
    "ovr_main(X_train, y_train, X_test, y_test, probability, linear_kernel)"
   ]
  },
  {
   "cell_type": "code",
   "execution_count": 41,
   "metadata": {},
   "outputs": [
    {
     "name": "stdout",
     "output_type": "stream",
     "text": [
      "Done Class: 0\n",
      "Done Class: 1\n",
      "Done Class: 2\n",
      "<function rbf_kernel at 0x7f5067483620> Train 0.9523809523809523\n",
      "<function rbf_kernel at 0x7f5067483620> Test 0.9777777777777777\n"
     ]
    }
   ],
   "source": [
    "ovr_main(X_train, y_train, X_test, y_test, probability, rbf_kernel)"
   ]
  },
  {
   "cell_type": "markdown",
   "metadata": {},
   "source": [
    "# OVO"
   ]
  },
  {
   "cell_type": "code",
   "execution_count": 42,
   "metadata": {},
   "outputs": [],
   "source": [
    "def ovo_predcit_proba(X_train, X_test, svm_all):\n",
    "    y_prob_train, y_prob_test = [], []\n",
    "\n",
    "    for clf in svm_all:\n",
    "        y_prob_train.append(clf.predict(X_train).tolist())\n",
    "        y_prob_test.append(clf.predict(X_test).tolist())\n",
    "    return np.array(y_prob_train).T, np.array(y_prob_test).T"
   ]
  },
  {
   "cell_type": "code",
   "execution_count": 43,
   "metadata": {},
   "outputs": [],
   "source": [
    "def ovo_multiclass_convert(y, combinations):\n",
    "    y_predicted = []\n",
    "\n",
    "    for p in y:\n",
    "        val = [0] * n_classes\n",
    "        for i in range(0, len(p)):\n",
    "            if p[i] <= 0:\n",
    "                val[combinations[i][0]]= val[combinations[i][0]]+1\n",
    "            else:\n",
    "                val[combinations[i][1]]= val[combinations[i][1]]+1\n",
    "        y_predicted.append(val.index(max(val)))\n",
    "    \n",
    "    return np.array(y_predicted)"
   ]
  },
  {
   "cell_type": "code",
   "execution_count": 44,
   "metadata": {},
   "outputs": [],
   "source": [
    "def ovo_main(X_train, y_train, X_test, y_test, kernel):\n",
    "    combinations = []\n",
    "    for i in np.unique(y_train):\n",
    "        for j in np.unique(y_train):\n",
    "            if i < j:\n",
    "                combinations.append([i,j])\n",
    "\n",
    "    grid = []\n",
    "    for i, j in combinations:\n",
    "        grid.append((X_train, y_train, kernel, i, j))\n",
    "\n",
    "    pool = multiprocessing.Pool()\n",
    "    svm_all = pool.starmap(defs.ovo_svm_multipro, grid)\n",
    "    pool.close()\n",
    "\n",
    "    y_proba_train, y_proba_test = ovo_predcit_proba(X_train, X_test, svm_all)\n",
    "\n",
    "    y_predicted_train = ovo_multiclass_convert(y_proba_train, combinations)\n",
    "\n",
    "    y_predicted_test = ovo_multiclass_convert(y_proba_test, combinations)\n",
    "\n",
    "    print(kernel, \"Train\", accuracy_score(y_predicted_train, y_train))\n",
    "    print(kernel, \"Test\", accuracy_score(y_predicted_test, y_test))"
   ]
  },
  {
   "cell_type": "code",
   "execution_count": 45,
   "metadata": {},
   "outputs": [
    {
     "name": "stdout",
     "output_type": "stream",
     "text": [
      "linear Train 0.9619047619047619\n",
      "linear Test 0.9777777777777777\n"
     ]
    }
   ],
   "source": [
    "ovo_main(X_train, y_train, X_test, y_test, 'linear')"
   ]
  },
  {
   "cell_type": "code",
   "execution_count": 46,
   "metadata": {},
   "outputs": [
    {
     "name": "stdout",
     "output_type": "stream",
     "text": [
      "rbf Train 0.9619047619047619\n",
      "rbf Test 0.9777777777777777\n"
     ]
    }
   ],
   "source": [
    "ovo_main(X_train, y_train, X_test, y_test, 'rbf')"
   ]
  },
  {
   "cell_type": "code",
   "execution_count": 47,
   "metadata": {},
   "outputs": [
    {
     "name": "stdout",
     "output_type": "stream",
     "text": [
      "<function linear_kernel at 0x7f5096bfc730> Train 0.9619047619047619\n",
      "<function linear_kernel at 0x7f5096bfc730> Test 0.9777777777777777\n"
     ]
    }
   ],
   "source": [
    "ovo_main(X_train, y_train, X_test, y_test, linear_kernel)"
   ]
  },
  {
   "cell_type": "code",
   "execution_count": 48,
   "metadata": {},
   "outputs": [
    {
     "name": "stdout",
     "output_type": "stream",
     "text": [
      "<function rbf_kernel at 0x7f5067483620> Train 0.9619047619047619\n",
      "<function rbf_kernel at 0x7f5067483620> Test 0.9777777777777777\n"
     ]
    }
   ],
   "source": [
    "ovo_main(X_train, y_train, X_test, y_test, rbf_kernel)"
   ]
  },
  {
   "cell_type": "code",
   "execution_count": null,
   "metadata": {},
   "outputs": [],
   "source": []
  },
  {
   "cell_type": "code",
   "execution_count": 49,
   "metadata": {},
   "outputs": [],
   "source": [
    "def make_meshgrid(x, y, h=.02):\n",
    "    x_min, x_max = x.min() - 1, x.max() + 1\n",
    "    y_min, y_max = y.min() - 1, y.max() + 1\n",
    "    xx, yy = np.meshgrid(np.arange(x_min, x_max, h),np.arange(y_min, y_max, h))\n",
    "    return xx, yy"
   ]
  },
  {
   "cell_type": "code",
   "execution_count": 68,
   "metadata": {},
   "outputs": [],
   "source": [
    "def draw_plot(X_train, y_train, kernel):\n",
    "    svm = SVC(kernel=kernel)\n",
    "\n",
    "    svm.fit(X_train, y_train)\n",
    "\n",
    "    y_predicted = svm.predict(X_test)\n",
    "\n",
    "    X0, X1 = X_train[:, 0], X_train[:, 1]\n",
    "    xx, yy = make_meshgrid(X0, X1)\n",
    "\n",
    "    Z = svm.predict(np.c_[xx.ravel(), yy.ravel()])\n",
    "    Z = Z.reshape(xx.shape)\n",
    "\n",
    "    plt.contourf(xx, yy, Z, cmap=plt.cm.winter)\n",
    "    plt.scatter(X0, X1, c=y_train, cmap=plt.cm.Paired, edgecolors='k')\n",
    "    plt.show()"
   ]
  },
  {
   "cell_type": "code",
   "execution_count": 69,
   "metadata": {},
   "outputs": [
    {
     "data": {
      "image/png": "[encoded data removed]",
      "text/plain": [
       "<Figure size 432x288 with 1 Axes>"
      ]
     },
     "metadata": {
      "needs_background": "light"
     },
     "output_type": "display_data"
    }
   ],
   "source": [
    "draw_plot(X_train, y_train, linear_kernel)"
   ]
  },
  {
   "cell_type": "code",
   "execution_count": null,
   "metadata": {},
   "outputs": [],
   "source": [
    "draw_plot(X_train, y_train, rbf_kernel)"
   ]
  },
  {
   "cell_type": "code",
   "execution_count": null,
   "metadata": {},
   "outputs": [],
   "source": []
  },
  {
   "cell_type": "code",
   "execution_count": null,
   "metadata": {},
   "outputs": [],
   "source": []
  },
  {
   "cell_type": "code",
   "execution_count": null,
   "metadata": {},
   "outputs": [],
   "source": []
  },
  {
   "cell_type": "code",
   "execution_count": null,
   "metadata": {},
   "outputs": [],
   "source": []
  },
  {
   "cell_type": "code",
   "execution_count": null,
   "metadata": {},
   "outputs": [],
   "source": []
  },
  {
   "cell_type": "code",
   "execution_count": null,
   "metadata": {},
   "outputs": [],
   "source": []
  },
  {
   "cell_type": "markdown",
   "metadata": {},
   "source": [
    "# Appendix"
   ]
  },
  {
   "cell_type": "code",
   "execution_count": null,
   "metadata": {},
   "outputs": [],
   "source": [
    "# def ovr_predcit_proba(X_train, X_test, probability, svm_s):\n",
    "#     y_prob_train, y_prob_test = [], []\n",
    "\n",
    "#     for clf in svm_s:\n",
    "# #         if probability:\n",
    "#         y_prob_train.append(clf.predict_proba(X_train)[:, 1].tolist())\n",
    "#         y_prob_test.append(clf.predict_proba(X_test)[:, 1].tolist())\n",
    "# #         else:\n",
    "# #             y_prob_train.append(clf.predict(X_train).tolist())\n",
    "# #             y_prob_test.append(clf.predict(X_test).tolist())\n",
    "#     return np.array(y_prob_train).T, np.array(y_prob_test).T"
   ]
  },
  {
   "cell_type": "code",
   "execution_count": null,
   "metadata": {},
   "outputs": [],
   "source": [
    "# def ovr_get_svms(X_train, y_train, kernel):\n",
    "\n",
    "# #     grid = []\n",
    "# #     for i in np.unique(y_train):\n",
    "# #         grid.append((kernel, i))\n",
    "\n",
    "#     svm_all = pool.map(ovr_svm_multipro, np.unique(y_train))\n",
    "\n",
    "#     return svm_all"
   ]
  },
  {
   "cell_type": "code",
   "execution_count": null,
   "metadata": {},
   "outputs": [],
   "source": [
    "# def ovr_svm_multipro(kernel, i):\n",
    "#     print(\"Processing Class y =\", i)\n",
    "\n",
    "#     y_train_ = copy.deepcopy(y_train)\n",
    "\n",
    "#     y_train_[y_train_== i] = -1\n",
    "#     y_train_[y_train_!= -1] = 0\n",
    "#     y_train_[y_train_== -1] = 1\n",
    "\n",
    "#     model = SVC(kernel=kernel, gamma='auto')\n",
    "#     model.fit(X_train, y_train_)\n",
    "#     print(\"Done:\", i)\n",
    "#     return model"
   ]
  },
  {
   "cell_type": "code",
   "execution_count": null,
   "metadata": {},
   "outputs": [],
   "source": [
    "### Train Test Split\n",
    "\n",
    "# X_train, X_test, y_train, y_test = train_test_split(X, y, test_size=.3, random_state=41)"
   ]
  },
  {
   "cell_type": "code",
   "execution_count": null,
   "metadata": {},
   "outputs": [],
   "source": [
    "# def linear_predict(x, w, b):\n",
    "#     y_predicted = np.dot(x, w.T) + b\n",
    "    \n",
    "#     y_predicted[y_predicted>=0] = 1\n",
    "#     y_predicted[y_predicted<0] = 0\n",
    "#     return y_predicted"
   ]
  },
  {
   "cell_type": "code",
   "execution_count": null,
   "metadata": {},
   "outputs": [],
   "source": [
    "# svm = SVC(kernel=linear_kernel)"
   ]
  },
  {
   "cell_type": "code",
   "execution_count": null,
   "metadata": {},
   "outputs": [],
   "source": [
    "# %%time\n",
    "# svm.fit(X_train, y_train)"
   ]
  },
  {
   "cell_type": "code",
   "execution_count": null,
   "metadata": {},
   "outputs": [],
   "source": [
    "# %%time\n",
    "# svm.score(X_test, y_test)"
   ]
  }
 ],
 "metadata": {
  "kernelspec": {
   "display_name": "Python [conda env:root] *",
   "language": "python",
   "name": "conda-root-py"
  },
  "language_info": {
   "codemirror_mode": {
    "name": "ipython",
    "version": 3
   },
   "file_extension": ".py",
   "mimetype": "text/x-python",
   "name": "python",
   "nbconvert_exporter": "python",
   "pygments_lexer": "ipython3",
   "version": "3.7.3"
  }
 },
 "nbformat": 4,
 "nbformat_minor": 2
}
