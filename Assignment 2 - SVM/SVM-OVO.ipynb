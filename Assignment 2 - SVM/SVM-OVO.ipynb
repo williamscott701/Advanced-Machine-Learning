{
 "cells": [
  {
   "cell_type": "markdown",
   "metadata": {},
   "source": [
    "## Imports"
   ]
  },
  {
   "cell_type": "code",
   "execution_count": 1,
   "metadata": {},
   "outputs": [],
   "source": [
    "import copy\n",
    "import numpy as np\n",
    "import pandas as pd\n",
    "import multiprocessing\n",
    "import matplotlib.pyplot as plt\n",
    "\n",
    "import defs\n",
    "\n",
    "from sklearn.svm import SVC\n",
    "from collections import Counter\n",
    "from sklearn.manifold import TSNE\n",
    "from sklearn.metrics import accuracy_score\n",
    "from sklearn.model_selection import train_test_split"
   ]
  },
  {
   "cell_type": "markdown",
   "metadata": {},
   "source": [
    "## Loading Dataset"
   ]
  },
  {
   "cell_type": "code",
   "execution_count": 2,
   "metadata": {},
   "outputs": [],
   "source": [
    "n_features = 16"
   ]
  },
  {
   "cell_type": "code",
   "execution_count": 3,
   "metadata": {},
   "outputs": [],
   "source": [
    "dataset = pd.read_csv(\"Resources/pendigits\", header=None)"
   ]
  },
  {
   "cell_type": "code",
   "execution_count": 4,
   "metadata": {},
   "outputs": [],
   "source": [
    "dataset_test = pd.read_csv(\"Resources/pendigits.t\", header=None)"
   ]
  },
  {
   "cell_type": "code",
   "execution_count": 5,
   "metadata": {},
   "outputs": [
    {
     "data": {
      "text/html": [
       "<div>\n",
       "<style scoped>\n",
       "    .dataframe tbody tr th:only-of-type {\n",
       "        vertical-align: middle;\n",
       "    }\n",
       "\n",
       "    .dataframe tbody tr th {\n",
       "        vertical-align: top;\n",
       "    }\n",
       "\n",
       "    .dataframe thead th {\n",
       "        text-align: right;\n",
       "    }\n",
       "</style>\n",
       "<table border=\"1\" class=\"dataframe\">\n",
       "  <thead>\n",
       "    <tr style=\"text-align: right;\">\n",
       "      <th></th>\n",
       "      <th>0</th>\n",
       "    </tr>\n",
       "  </thead>\n",
       "  <tbody>\n",
       "    <tr>\n",
       "      <th>0</th>\n",
       "      <td>8 1:47 2:100 3:27 4:81 5:57 6:37 7:26 10:23 11...</td>\n",
       "    </tr>\n",
       "    <tr>\n",
       "      <th>1</th>\n",
       "      <td>2 2:89 3:27 4:100 5:42 6:75 7:29 8:45 9:15 10:...</td>\n",
       "    </tr>\n",
       "    <tr>\n",
       "      <th>2</th>\n",
       "      <td>1 2:57 3:31 4:68 5:72 6:90 7:100 8:100 9:76 10...</td>\n",
       "    </tr>\n",
       "    <tr>\n",
       "      <th>3</th>\n",
       "      <td>4 2:100 3:7 4:92 5:5 6:68 7:19 8:45 9:86 10:34...</td>\n",
       "    </tr>\n",
       "    <tr>\n",
       "      <th>4</th>\n",
       "      <td>1 2:67 3:49 4:83 5:100 6:100 7:81 8:80 9:60 10...</td>\n",
       "    </tr>\n",
       "  </tbody>\n",
       "</table>\n",
       "</div>"
      ],
      "text/plain": [
       "                                                   0\n",
       "0  8 1:47 2:100 3:27 4:81 5:57 6:37 7:26 10:23 11...\n",
       "1  2 2:89 3:27 4:100 5:42 6:75 7:29 8:45 9:15 10:...\n",
       "2  1 2:57 3:31 4:68 5:72 6:90 7:100 8:100 9:76 10...\n",
       "3  4 2:100 3:7 4:92 5:5 6:68 7:19 8:45 9:86 10:34...\n",
       "4  1 2:67 3:49 4:83 5:100 6:100 7:81 8:80 9:60 10..."
      ]
     },
     "execution_count": 5,
     "metadata": {},
     "output_type": "execute_result"
    }
   ],
   "source": [
    "dataset.head()"
   ]
  },
  {
   "cell_type": "code",
   "execution_count": 6,
   "metadata": {},
   "outputs": [
    {
     "data": {
      "text/plain": [
       "((7494, 1), (3498, 1))"
      ]
     },
     "execution_count": 6,
     "metadata": {},
     "output_type": "execute_result"
    }
   ],
   "source": [
    "dataset.shape, dataset_test.shape"
   ]
  },
  {
   "cell_type": "code",
   "execution_count": 7,
   "metadata": {},
   "outputs": [],
   "source": [
    "def get_dataset(dataset):\n",
    "    X = []\n",
    "    y = []\n",
    "\n",
    "    for idx, i in enumerate(dataset[0]):\n",
    "        k = [0] * n_features\n",
    "        p = i.strip().split(\" \")\n",
    "        y.append(int(p[0]))\n",
    "        for j in p[1:]:\n",
    "            k[int(j.split(\":\")[0])-1] = float(j.split(\":\")[1])\n",
    "        X.append(k)\n",
    "    return np.array(X), np.array(y)"
   ]
  },
  {
   "cell_type": "code",
   "execution_count": 8,
   "metadata": {},
   "outputs": [],
   "source": [
    "X_train_raw, y_train = get_dataset(dataset)"
   ]
  },
  {
   "cell_type": "code",
   "execution_count": 9,
   "metadata": {},
   "outputs": [],
   "source": [
    "X_test_raw, y_test = get_dataset(dataset_test)"
   ]
  },
  {
   "cell_type": "code",
   "execution_count": 10,
   "metadata": {},
   "outputs": [],
   "source": [
    "n_classes = np.unique(y_train).shape[0]"
   ]
  },
  {
   "cell_type": "code",
   "execution_count": 11,
   "metadata": {},
   "outputs": [
    {
     "data": {
      "text/plain": [
       "((7494, 16), (7494,))"
      ]
     },
     "execution_count": 11,
     "metadata": {},
     "output_type": "execute_result"
    }
   ],
   "source": [
    "X_train_raw.shape, y_train.shape"
   ]
  },
  {
   "cell_type": "code",
   "execution_count": 12,
   "metadata": {},
   "outputs": [
    {
     "data": {
      "text/plain": [
       "((3498, 16), (3498,))"
      ]
     },
     "execution_count": 12,
     "metadata": {},
     "output_type": "execute_result"
    }
   ],
   "source": [
    "X_test_raw.shape, y_test.shape"
   ]
  },
  {
   "cell_type": "code",
   "execution_count": 13,
   "metadata": {},
   "outputs": [],
   "source": [
    "from sklearn.decomposition import PCA"
   ]
  },
  {
   "cell_type": "code",
   "execution_count": 14,
   "metadata": {},
   "outputs": [],
   "source": [
    "pca = PCA(n_components=2)"
   ]
  },
  {
   "cell_type": "code",
   "execution_count": 15,
   "metadata": {},
   "outputs": [],
   "source": [
    "X_train = pca.fit_transform(X_train_raw)"
   ]
  },
  {
   "cell_type": "code",
   "execution_count": 16,
   "metadata": {},
   "outputs": [],
   "source": [
    "X_test = pca.transform(X_test_raw)"
   ]
  },
  {
   "cell_type": "code",
   "execution_count": 17,
   "metadata": {},
   "outputs": [
    {
     "data": {
      "text/plain": [
       "array([0.28506749, 0.24400191])"
      ]
     },
     "execution_count": 17,
     "metadata": {},
     "output_type": "execute_result"
    }
   ],
   "source": [
    "pca.explained_variance_ratio_"
   ]
  },
  {
   "cell_type": "markdown",
   "metadata": {},
   "source": [
    "### Required Functions"
   ]
  },
  {
   "cell_type": "code",
   "execution_count": 18,
   "metadata": {},
   "outputs": [],
   "source": [
    "def plot_tsne(X, y):\n",
    "    tsne = TSNE(n_components=2, random_state=0)\n",
    "    k = tsne.fit_transform(X)\n",
    "    plt.scatter(k[:, 0], k[:, 1], c=y)\n",
    "    plt.show()"
   ]
  },
  {
   "cell_type": "code",
   "execution_count": 19,
   "metadata": {},
   "outputs": [],
   "source": [
    "def linear_kernel(x, y, c=2):\n",
    "    return np.dot(x, y.T) + c"
   ]
  },
  {
   "cell_type": "code",
   "execution_count": 20,
   "metadata": {},
   "outputs": [],
   "source": [
    "def rbf_kernel(X, y, sigma = 3):\n",
    "    K = np.zeros((X.shape[0], y.shape[0]))\n",
    "    for i, x_ in enumerate(X):\n",
    "        for j, y_ in enumerate(y):\n",
    "            K[i, j] = np.linalg.norm(x_-y_)**2\n",
    "    return np.exp(-(1.0/2.0*(sigma**2))*K)"
   ]
  },
  {
   "cell_type": "markdown",
   "metadata": {},
   "source": [
    "### Analysis"
   ]
  },
  {
   "cell_type": "code",
   "execution_count": 21,
   "metadata": {
    "scrolled": true
   },
   "outputs": [],
   "source": [
    "# plot_tsne(X_train, y_train)"
   ]
  },
  {
   "cell_type": "code",
   "execution_count": 22,
   "metadata": {
    "scrolled": true
   },
   "outputs": [],
   "source": [
    "# plot_tsne(X_test, y_test)"
   ]
  },
  {
   "cell_type": "markdown",
   "metadata": {},
   "source": [
    "# Baselines"
   ]
  },
  {
   "cell_type": "code",
   "execution_count": 23,
   "metadata": {
    "scrolled": true
   },
   "outputs": [
    {
     "name": "stdout",
     "output_type": "stream",
     "text": [
      "0.6323725647184414\n",
      "0.6092052601486564\n"
     ]
    }
   ],
   "source": [
    "svm = SVC(kernel='linear')\n",
    "svm.fit(X_train, y_train)\n",
    "print(svm.score(X_train, y_train))\n",
    "print(svm.score(X_test, y_test))"
   ]
  },
  {
   "cell_type": "code",
   "execution_count": 32,
   "metadata": {
    "scrolled": true
   },
   "outputs": [
    {
     "name": "stdout",
     "output_type": "stream",
     "text": [
      "0.9930611155591139\n",
      "0.9505431675242996\n"
     ]
    }
   ],
   "source": [
    "svm = SVC(kernel='linear')\n",
    "svm.fit(X_train_raw, y_train)\n",
    "print(svm.score(X_train_raw, y_train))\n",
    "print(svm.score(X_test_raw, y_test))"
   ]
  },
  {
   "cell_type": "code",
   "execution_count": 24,
   "metadata": {},
   "outputs": [
    {
     "name": "stderr",
     "output_type": "stream",
     "text": [
      "/opt/anaconda3/lib/python3.7/site-packages/sklearn/svm/base.py:193: FutureWarning: The default value of gamma will change from 'auto' to 'scale' in version 0.22 to account better for unscaled features. Set gamma explicitly to 'auto' or 'scale' to avoid this warning.\n",
      "  \"avoid this warning.\", FutureWarning)\n"
     ]
    },
    {
     "name": "stdout",
     "output_type": "stream",
     "text": [
      "0.8820389645049372\n",
      "0.6297884505431676\n"
     ]
    }
   ],
   "source": [
    "svm = SVC(kernel='rbf')\n",
    "svm.fit(X_train, y_train)\n",
    "print(svm.score(X_train, y_train))\n",
    "print(svm.score(X_test, y_test))"
   ]
  },
  {
   "cell_type": "code",
   "execution_count": 33,
   "metadata": {},
   "outputs": [
    {
     "name": "stderr",
     "output_type": "stream",
     "text": [
      "/opt/anaconda3/lib/python3.7/site-packages/sklearn/svm/base.py:193: FutureWarning: The default value of gamma will change from 'auto' to 'scale' in version 0.22 to account better for unscaled features. Set gamma explicitly to 'auto' or 'scale' to avoid this warning.\n",
      "  \"avoid this warning.\", FutureWarning)\n"
     ]
    },
    {
     "name": "stdout",
     "output_type": "stream",
     "text": [
      "1.0\n",
      "0.13693539165237278\n"
     ]
    }
   ],
   "source": [
    "svm = SVC(kernel='rbf')\n",
    "svm.fit(X_train_raw, y_train)\n",
    "print(svm.score(X_train_raw, y_train))\n",
    "print(svm.score(X_test_raw, y_test))"
   ]
  },
  {
   "cell_type": "markdown",
   "metadata": {},
   "source": [
    "# Models\n",
    "- OVR - Linear and RBF\n",
    "- AVA - Linear and RBF"
   ]
  },
  {
   "cell_type": "markdown",
   "metadata": {},
   "source": [
    "# OVO"
   ]
  },
  {
   "cell_type": "code",
   "execution_count": 25,
   "metadata": {},
   "outputs": [],
   "source": [
    "def ovo_predcit_proba(X_train, X_test, svm_all):\n",
    "    y_prob_train, y_prob_test = [], []\n",
    "\n",
    "    for clf in svm_all:\n",
    "        y_prob_train.append(clf.predict(X_train).tolist())\n",
    "        y_prob_test.append(clf.predict(X_test).tolist())\n",
    "    return np.array(y_prob_train).T, np.array(y_prob_test).T"
   ]
  },
  {
   "cell_type": "code",
   "execution_count": 26,
   "metadata": {},
   "outputs": [],
   "source": [
    "def ovo_multiclass_convert(y, combinations):\n",
    "    y_predicted = []\n",
    "\n",
    "    for p in y:\n",
    "        val = [0] * n_classes\n",
    "        for i in range(0, len(p)):\n",
    "            if p[i] <= 0:\n",
    "                val[combinations[i][0]]= val[combinations[i][0]]+1\n",
    "            else:\n",
    "                val[combinations[i][1]]= val[combinations[i][1]]+1\n",
    "        y_predicted.append(val.index(max(val)))\n",
    "    \n",
    "    return np.array(y_predicted)"
   ]
  },
  {
   "cell_type": "code",
   "execution_count": 27,
   "metadata": {},
   "outputs": [],
   "source": [
    "def ovo_main(X_train, y_train, X_test, y_test, kernel):\n",
    "    combinations = []\n",
    "    for i in np.unique(y_train):\n",
    "        for j in np.unique(y_train):\n",
    "            if i < j:\n",
    "                combinations.append([i,j])\n",
    "\n",
    "    grid = []\n",
    "    for i, j in combinations:\n",
    "        grid.append((X_train, y_train, kernel, i, j))\n",
    "\n",
    "    pool = multiprocessing.Pool()\n",
    "    svm_all = pool.starmap(defs.ovo_svm_multipro, grid)\n",
    "\n",
    "    y_proba_train, y_proba_test = ovo_predcit_proba(X_train, X_test, svm_all)\n",
    "\n",
    "    y_predicted_train = ovo_multiclass_convert(y_proba_train, combinations)\n",
    "\n",
    "    y_predicted_test = ovo_multiclass_convert(y_proba_test, combinations)\n",
    "\n",
    "    print(kernel, \"Train\", accuracy_score(y_predicted_train, y_train))\n",
    "    print(kernel, \"Test\", accuracy_score(y_predicted_test, y_test))"
   ]
  },
  {
   "cell_type": "code",
   "execution_count": 28,
   "metadata": {},
   "outputs": [
    {
     "name": "stdout",
     "output_type": "stream",
     "text": [
      "linear Train 0.6323725647184414\n",
      "linear Test 0.6092052601486564\n"
     ]
    }
   ],
   "source": [
    "ovo_main(X_train, y_train, X_test, y_test, 'linear')"
   ]
  },
  {
   "cell_type": "code",
   "execution_count": 35,
   "metadata": {},
   "outputs": [
    {
     "name": "stdout",
     "output_type": "stream",
     "text": [
      "linear Train 0.9930611155591139\n",
      "linear Test 0.9505431675242996\n"
     ]
    }
   ],
   "source": [
    "ovo_main(X_train_raw, y_train, X_test_raw, y_test, 'linear')"
   ]
  },
  {
   "cell_type": "code",
   "execution_count": 31,
   "metadata": {},
   "outputs": [
    {
     "name": "stdout",
     "output_type": "stream",
     "text": [
      "rbf Train 0.8820389645049372\n",
      "rbf Test 0.6297884505431676\n"
     ]
    }
   ],
   "source": [
    "ovo_main(X_train, y_train, X_test, y_test, 'rbf')"
   ]
  },
  {
   "cell_type": "code",
   "execution_count": 30,
   "metadata": {},
   "outputs": [
    {
     "name": "stdout",
     "output_type": "stream",
     "text": [
      "rbf Train 1.0\n",
      "rbf Test 0.13693539165237278\n"
     ]
    }
   ],
   "source": [
    "ovo_main(X_train_raw, y_train, X_test_raw, y_test, 'rbf')"
   ]
  },
  {
   "cell_type": "code",
   "execution_count": 36,
   "metadata": {},
   "outputs": [
    {
     "name": "stdout",
     "output_type": "stream",
     "text": [
      "<function linear_kernel at 0x7f21563f6bf8> Train 0.6323725647184414\n",
      "<function linear_kernel at 0x7f21563f6bf8> Test 0.6092052601486564\n"
     ]
    }
   ],
   "source": [
    "ovo_main(X_train, y_train, X_test, y_test, linear_kernel)"
   ]
  },
  {
   "cell_type": "code",
   "execution_count": null,
   "metadata": {},
   "outputs": [],
   "source": [
    "ovo_main(X_train, y_train, X_test, y_test, rbf_kernel)"
   ]
  },
  {
   "cell_type": "code",
   "execution_count": null,
   "metadata": {},
   "outputs": [],
   "source": []
  },
  {
   "cell_type": "code",
   "execution_count": null,
   "metadata": {},
   "outputs": [],
   "source": []
  }
 ],
 "metadata": {
  "kernelspec": {
   "display_name": "Python [conda env:root] *",
   "language": "python",
   "name": "conda-root-py"
  },
  "language_info": {
   "codemirror_mode": {
    "name": "ipython",
    "version": 3
   },
   "file_extension": ".py",
   "mimetype": "text/x-python",
   "name": "python",
   "nbconvert_exporter": "python",
   "pygments_lexer": "ipython3",
   "version": "3.7.3"
  }
 },
 "nbformat": 4,
 "nbformat_minor": 2
}
