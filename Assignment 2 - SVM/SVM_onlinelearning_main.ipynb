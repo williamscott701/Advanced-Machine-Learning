{
 "cells": [
  {
   "cell_type": "markdown",
   "metadata": {},
   "source": [
    "## Imports"
   ]
  },
  {
   "cell_type": "code",
   "execution_count": 1,
   "metadata": {},
   "outputs": [],
   "source": [
    "import copy\n",
    "import numpy as np\n",
    "import pandas as pd\n",
    "import multiprocessing\n",
    "import matplotlib.pyplot as plt\n",
    "\n",
    "import defs\n",
    "from sklearn.model_selection import KFold\n",
    "from sklearn.model_selection import train_test_split\n",
    "from sklearn.decomposition import PCA\n",
    "from sklearn.svm import SVC\n",
    "from collections import Counter\n",
    "from sklearn.manifold import TSNE\n",
    "from sklearn.metrics import accuracy_score\n",
    "from sklearn.model_selection import train_test_split"
   ]
  },
  {
   "cell_type": "markdown",
   "metadata": {},
   "source": [
    "## Loading Dataset"
   ]
  },
  {
   "cell_type": "code",
   "execution_count": 2,
   "metadata": {},
   "outputs": [],
   "source": [
    "n_features = 9"
   ]
  },
  {
   "cell_type": "code",
   "execution_count": 3,
   "metadata": {},
   "outputs": [],
   "source": [
    "dataset = pd.read_csv(\"Resources/glass.scale.txt\", header=None)"
   ]
  },
  {
   "cell_type": "code",
   "execution_count": 4,
   "metadata": {},
   "outputs": [
    {
     "data": {
      "text/html": [
       "<div>\n",
       "<style scoped>\n",
       "    .dataframe tbody tr th:only-of-type {\n",
       "        vertical-align: middle;\n",
       "    }\n",
       "\n",
       "    .dataframe tbody tr th {\n",
       "        vertical-align: top;\n",
       "    }\n",
       "\n",
       "    .dataframe thead th {\n",
       "        text-align: right;\n",
       "    }\n",
       "</style>\n",
       "<table border=\"1\" class=\"dataframe\">\n",
       "  <thead>\n",
       "    <tr style=\"text-align: right;\">\n",
       "      <th></th>\n",
       "      <th>0</th>\n",
       "    </tr>\n",
       "  </thead>\n",
       "  <tbody>\n",
       "    <tr>\n",
       "      <th>0</th>\n",
       "      <td>1 1:-0.134323 2:-0.124812 3:1 4:-0.495327 5:-0...</td>\n",
       "    </tr>\n",
       "    <tr>\n",
       "      <th>1</th>\n",
       "      <td>1 1:-0.432839 2:-0.0496238 3:0.603564 4:-0.333...</td>\n",
       "    </tr>\n",
       "    <tr>\n",
       "      <th>2</th>\n",
       "      <td>1 1:-0.55838 2:-0.157895 3:0.581292 4:-0.22118...</td>\n",
       "    </tr>\n",
       "    <tr>\n",
       "      <th>3</th>\n",
       "      <td>1 1:-0.428443 2:-0.254135 3:0.643653 4:-0.3769...</td>\n",
       "    </tr>\n",
       "    <tr>\n",
       "      <th>4</th>\n",
       "      <td>1 1:-0.449511 2:-0.23609 3:0.612472 4:-0.4081 ...</td>\n",
       "    </tr>\n",
       "  </tbody>\n",
       "</table>\n",
       "</div>"
      ],
      "text/plain": [
       "                                                   0\n",
       "0  1 1:-0.134323 2:-0.124812 3:1 4:-0.495327 5:-0...\n",
       "1  1 1:-0.432839 2:-0.0496238 3:0.603564 4:-0.333...\n",
       "2  1 1:-0.55838 2:-0.157895 3:0.581292 4:-0.22118...\n",
       "3  1 1:-0.428443 2:-0.254135 3:0.643653 4:-0.3769...\n",
       "4  1 1:-0.449511 2:-0.23609 3:0.612472 4:-0.4081 ..."
      ]
     },
     "execution_count": 4,
     "metadata": {},
     "output_type": "execute_result"
    }
   ],
   "source": [
    "dataset.head()"
   ]
  },
  {
   "cell_type": "code",
   "execution_count": 5,
   "metadata": {},
   "outputs": [
    {
     "data": {
      "text/plain": [
       "(214, 1)"
      ]
     },
     "execution_count": 5,
     "metadata": {},
     "output_type": "execute_result"
    }
   ],
   "source": [
    "dataset.shape #, dataset_test.shape"
   ]
  },
  {
   "cell_type": "code",
   "execution_count": 6,
   "metadata": {},
   "outputs": [],
   "source": [
    "def get_dataset(dataset):\n",
    "    X = []\n",
    "    y = []\n",
    "\n",
    "    for idx, i in enumerate(dataset[0]):\n",
    "        k = [0] * n_features\n",
    "        p = i.strip().split(\" \")\n",
    "        y.append(int(p[0]))\n",
    "        for j in p[1:]:\n",
    "            k[int(j.split(\":\")[0])-1] = float(j.split(\":\")[1])\n",
    "        X.append(k)\n",
    "    return np.array(X), np.array(y)"
   ]
  },
  {
   "cell_type": "code",
   "execution_count": 7,
   "metadata": {},
   "outputs": [],
   "source": [
    "X, y = get_dataset(dataset)\n",
    "y -= 1"
   ]
  },
  {
   "cell_type": "code",
   "execution_count": 8,
   "metadata": {},
   "outputs": [],
   "source": [
    "n_classes = np.unique(y).shape[0]"
   ]
  },
  {
   "cell_type": "code",
   "execution_count": 9,
   "metadata": {},
   "outputs": [
    {
     "data": {
      "text/plain": [
       "((214, 9), (214,))"
      ]
     },
     "execution_count": 9,
     "metadata": {},
     "output_type": "execute_result"
    }
   ],
   "source": [
    "X.shape, y.shape"
   ]
  },
  {
   "cell_type": "code",
   "execution_count": 10,
   "metadata": {},
   "outputs": [],
   "source": [
    "X_train, X_test, y_train, y_test = train_test_split(X, y, test_size=0.3, random_state=42)"
   ]
  },
  {
   "cell_type": "markdown",
   "metadata": {},
   "source": [
    "# Required Methods"
   ]
  },
  {
   "cell_type": "code",
   "execution_count": 11,
   "metadata": {},
   "outputs": [],
   "source": [
    "def get_support_vectors(X, y, svm):    \n",
    "    X_support_vecs = []\n",
    "    y_support_vecs = []\n",
    "    for i in svm.support_:\n",
    "        X_support_vecs.append(X[i].tolist())\n",
    "        y_support_vecs.append(y[i].tolist())\n",
    "    return X_support_vecs, y_support_vecs"
   ]
  },
  {
   "cell_type": "code",
   "execution_count": 12,
   "metadata": {},
   "outputs": [],
   "source": [
    "def plot_tsne(X, y):\n",
    "    tsne = TSNE(n_components=2, random_state=0)\n",
    "    k = tsne.fit_transform(X)\n",
    "    plt.scatter(k[:, 0], k[:, 1], c=y)\n",
    "    plt.show()"
   ]
  },
  {
   "cell_type": "markdown",
   "metadata": {},
   "source": [
    "## Analysis"
   ]
  },
  {
   "cell_type": "code",
   "execution_count": 13,
   "metadata": {
    "scrolled": true
   },
   "outputs": [
    {
     "data": {
      "image/png": "[encoded data removed]",
      "text/plain": [
       "<Figure size 432x288 with 1 Axes>"
      ]
     },
     "metadata": {
      "needs_background": "light"
     },
     "output_type": "display_data"
    }
   ],
   "source": [
    "plot_tsne(X_train, y_train)"
   ]
  },
  {
   "cell_type": "code",
   "execution_count": 14,
   "metadata": {
    "scrolled": true
   },
   "outputs": [
    {
     "data": {
      "image/png": "[encoded data removed]",
      "text/plain": [
       "<Figure size 432x288 with 1 Axes>"
      ]
     },
     "metadata": {
      "needs_background": "light"
     },
     "output_type": "display_data"
    }
   ],
   "source": [
    "plot_tsne(X_test, y_test)"
   ]
  },
  {
   "cell_type": "markdown",
   "metadata": {},
   "source": [
    "# Baselines"
   ]
  },
  {
   "cell_type": "code",
   "execution_count": 15,
   "metadata": {
    "scrolled": true
   },
   "outputs": [
    {
     "name": "stdout",
     "output_type": "stream",
     "text": [
      "0.6644295302013423\n",
      "0.6153846153846154\n"
     ]
    }
   ],
   "source": [
    "svm = SVC(gamma='auto')\n",
    "svm.fit(X_train, y_train)\n",
    "print(svm.score(X_train, y_train))\n",
    "print(svm.score(X_test, y_test))"
   ]
  },
  {
   "cell_type": "markdown",
   "metadata": {},
   "source": [
    "# Online Learning"
   ]
  },
  {
   "cell_type": "markdown",
   "metadata": {},
   "source": [
    "### Fitting the data with 60% data and then feeding the data points incrementally"
   ]
  },
  {
   "cell_type": "code",
   "execution_count": 16,
   "metadata": {},
   "outputs": [],
   "source": [
    "X_init, X_incr, y_init, y_incr = train_test_split(X_train, y_train, test_size=0.3, random_state=42)"
   ]
  },
  {
   "cell_type": "code",
   "execution_count": 17,
   "metadata": {},
   "outputs": [
    {
     "data": {
      "text/plain": [
       "((104, 9), (45, 9))"
      ]
     },
     "execution_count": 17,
     "metadata": {},
     "output_type": "execute_result"
    }
   ],
   "source": [
    "X_init.shape, X_incr.shape"
   ]
  },
  {
   "cell_type": "code",
   "execution_count": 18,
   "metadata": {},
   "outputs": [
    {
     "name": "stdout",
     "output_type": "stream",
     "text": [
      "0.5192307692307693\n",
      "0.5230769230769231\n"
     ]
    }
   ],
   "source": [
    "svm = SVC(gamma='auto')\n",
    "svm.fit(X_init, y_init)\n",
    "print(svm.score(X_init, y_init))\n",
    "print(svm.score(X_test, y_test))"
   ]
  },
  {
   "cell_type": "code",
   "execution_count": 19,
   "metadata": {},
   "outputs": [
    {
     "name": "stdout",
     "output_type": "stream",
     "text": [
      "Train Acc: 0.5480769230769231 \tTest Acc: 0.5538461538461539\n",
      "Train Acc: 0.5384615384615384 \tTest Acc: 0.6153846153846154\n",
      "Train Acc: 0.5576923076923077 \tTest Acc: 0.5384615384615384\n",
      "Train Acc: 0.5288461538461539 \tTest Acc: 0.6153846153846154\n",
      "Train Acc: 0.5576923076923077 \tTest Acc: 0.5384615384615384\n",
      "Train Acc: 0.5576923076923077 \tTest Acc: 0.5384615384615384\n",
      "Train Acc: 0.5192307692307693 \tTest Acc: 0.5230769230769231\n",
      "Train Acc: 0.5096153846153846 \tTest Acc: 0.5076923076923077\n",
      "Train Acc: 0.5384615384615384 \tTest Acc: 0.5384615384615384\n",
      "Train Acc: 0.4807692307692308 \tTest Acc: 0.5384615384615384\n",
      "Train Acc: 0.5769230769230769 \tTest Acc: 0.6\n",
      "Train Acc: 0.4807692307692308 \tTest Acc: 0.5230769230769231\n",
      "Train Acc: 0.4807692307692308 \tTest Acc: 0.5230769230769231\n",
      "Train Acc: 0.5865384615384616 \tTest Acc: 0.6\n",
      "Train Acc: 0.5961538461538461 \tTest Acc: 0.6153846153846154\n"
     ]
    }
   ],
   "source": [
    "X_support_vecs, y_support_vecs = get_support_vectors(X_init, y_init, svm)\n",
    "X_prev = np.copy(X_init)\n",
    "y_prev = np.copy(y_init)\n",
    "\n",
    "for X, y in zip(X_incr, y_incr):\n",
    "    np.concatenate([X_prev, X.reshape((1, 9))], axis=0)\n",
    "    np.concatenate([y_prev, [y]], axis=0)\n",
    "    if svm.score([X], [y]) == 0:\n",
    "        X_support_vecs_new = X_support_vecs + [X.tolist()]\n",
    "        y_support_vecs_new = y_support_vecs + [y.tolist()]\n",
    "        svm = SVC(gamma='auto')\n",
    "        svm.fit(np.array(X_support_vecs_new), np.array(y_support_vecs_new))\n",
    "        print(\"Train Acc:\", svm.score(X_prev, y_prev), \"\\tTest Acc:\", svm.score(X_test, y_test))\n",
    "        X_support_vecs, y_support_vecs = get_support_vectors(np.array(X_support_vecs_new), np.array(y_support_vecs_new), svm)"
   ]
  },
  {
   "cell_type": "code",
   "execution_count": null,
   "metadata": {},
   "outputs": [],
   "source": []
  },
  {
   "cell_type": "code",
   "execution_count": null,
   "metadata": {},
   "outputs": [],
   "source": []
  },
  {
   "cell_type": "code",
   "execution_count": null,
   "metadata": {},
   "outputs": [],
   "source": []
  },
  {
   "cell_type": "code",
   "execution_count": null,
   "metadata": {},
   "outputs": [],
   "source": []
  },
  {
   "cell_type": "code",
   "execution_count": null,
   "metadata": {},
   "outputs": [],
   "source": []
  },
  {
   "cell_type": "code",
   "execution_count": null,
   "metadata": {},
   "outputs": [],
   "source": []
  },
  {
   "cell_type": "code",
   "execution_count": null,
   "metadata": {},
   "outputs": [],
   "source": []
  },
  {
   "cell_type": "code",
   "execution_count": null,
   "metadata": {},
   "outputs": [],
   "source": []
  }
 ],
 "metadata": {
  "kernelspec": {
   "display_name": "Python [conda env:root] *",
   "language": "python",
   "name": "conda-root-py"
  },
  "language_info": {
   "codemirror_mode": {
    "name": "ipython",
    "version": 3
   },
   "file_extension": ".py",
   "mimetype": "text/x-python",
   "name": "python",
   "nbconvert_exporter": "python",
   "pygments_lexer": "ipython3",
   "version": "3.7.3"
  }
 },
 "nbformat": 4,
 "nbformat_minor": 2
}
